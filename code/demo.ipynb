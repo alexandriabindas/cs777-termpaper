{
 "cells": [
  {
   "cell_type": "code",
   "execution_count": 13,
   "metadata": {},
   "outputs": [
    {
     "name": "stdout",
     "output_type": "stream",
     "text": [
      "PySpark Script:  /Users/alexbindas/anaconda3/envs/cs777-termpaper/lib/python3.12/site-packages/ipykernel_launcher.py\n",
      "3.5.1\n",
      "3.12\n",
      "local[*]\n"
     ]
    }
   ],
   "source": [
    "import sys\n",
    "from pyspark.sql import SparkSession\n",
    "\n",
    "print(\"PySpark Script: \", sys.argv[0])\n",
    "\n",
    "# Create a spark context and print some information about the context object\n",
    "spark: SparkSession = SparkSession.builder.appName(\"Demo\").getOrCreate()\n",
    "sc = spark.sparkContext\n",
    "\n",
    "print(sc.version)\n",
    "print(sc.pythonVer)\n",
    "print(sc.master)"
   ]
  },
  {
   "cell_type": "code",
   "execution_count": 15,
   "metadata": {},
   "outputs": [
    {
     "name": "stdout",
     "output_type": "stream",
     "text": [
      "Spark Successfully Stopped!\n"
     ]
    }
   ],
   "source": [
    "# Stop Pyspark\n",
    "spark.stop()\n",
    "print(\"Spark Successfully Stopped!\")"
   ]
  }
 ],
 "metadata": {
  "kernelspec": {
   "display_name": "Python (Term Paper)",
   "language": "python",
   "name": "pytorch"
  },
  "language_info": {
   "codemirror_mode": {
    "name": "ipython",
    "version": 3
   },
   "file_extension": ".py",
   "mimetype": "text/x-python",
   "name": "python",
   "nbconvert_exporter": "python",
   "pygments_lexer": "ipython3",
   "version": "3.12.2"
  }
 },
 "nbformat": 4,
 "nbformat_minor": 4
}
