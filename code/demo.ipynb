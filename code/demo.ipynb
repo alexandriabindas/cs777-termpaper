{
 "cells": [
  {
   "cell_type": "code",
   "execution_count": null,
   "metadata": {},
   "outputs": [],
   "source": [
    "import sys\n",
    "from pyspark.sql import SparkSession\n",
    "\n",
    "print(\"PySpark Script: \", sys.argv[0])\n",
    "\n",
    "# Create a spark context and print some information about the context object\n",
    "spark: SparkSession = SparkSession.builder.appName(\"Demo\").getOrCreate()\n",
    "sc = spark.sparkContext\n",
    "sc.setLogLevel(\"WARN\")\n",
    "\n",
    "print(sc.version)\n",
    "print(sc.pythonVer)\n",
    "print(sc.master)\n",
    "# Stop Pyspark\n",
    "spark.stop()\n",
    "print(\"Spark Successfully Stopped!\")"
   ]
  },
  {
   "cell_type": "code",
   "execution_count": 1,
   "metadata": {},
   "outputs": [],
   "source": [
    "from pyspark import SparkConf, SparkContext\n",
    "import random\n",
    "import time\n",
    "\n",
    "# Function to generate a large dataset of key-value pairs\n",
    "def generate_data(size):\n",
    "    return [(random.randint(1, 10000), random.random()) for _ in range(size)]\n",
    "\n",
    "def run_spark_job(serializer, data_size):\n",
    "    '''\n",
    "    Runs the spark job\n",
    "    '''\n",
    "    start_time = time.time()\n",
    "    # Configure Spark to use the specified serializer\n",
    "    conf = SparkConf() \\\n",
    "        .setAppName(f\"SerializationTest-{serializer}\") \\\n",
    "        .setMaster(\"local[*]\") \\\n",
    "        .set(\"spark.serializer\", serializer)\n",
    "\n",
    "    sc = SparkContext(conf=conf)\n",
    "    sc.setLogLevel(\"WARN\")\n",
    "\n",
    "    # Generate a large random dataset and parallelize it\n",
    "    data = generate_data(data_size)\n",
    "    rdd = sc.parallelize(data)\n",
    "\n",
    "    # Perform reduceByKey (requires shuffling)\n",
    "    result = rdd.reduceByKey(lambda a, b: a + b).count()\n",
    "\n",
    "    print(f\"Result count with {serializer}: {result}\")\n",
    "    end_time = time.time()\n",
    "    print(\"Execution Time (secs):\", (end_time-start_time))\n",
    "\n",
    "    # Calculate and print the estimated data size (MB)\n",
    "    bytes_per_element = 24  # Size per tuple\n",
    "    data_size_bytes = data_size * bytes_per_element\n",
    "    data_size_megabytes = data_size_bytes / (1024 * 1024)\n",
    "    print(f\"Estimated data size: {data_size_megabytes:.2f} MB\")\n",
    "\n",
    "    sc.stop()"
   ]
  },
  {
   "cell_type": "markdown",
   "metadata": {},
   "source": [
    "## JavaSerializer (Default)\n",
    "\n",
    "Source: https://spark.apache.org/docs/latest/tuning.html"
   ]
  },
  {
   "cell_type": "code",
   "execution_count": 2,
   "metadata": {},
   "outputs": [
    {
     "name": "stderr",
     "output_type": "stream",
     "text": [
      "Setting default log level to \"WARN\".\n",
      "To adjust logging level use sc.setLogLevel(newLevel). For SparkR, use setLogLevel(newLevel).\n",
      "24/03/16 13:33:43 WARN NativeCodeLoader: Unable to load native-hadoop library for your platform... using builtin-java classes where applicable\n",
      "24/03/16 13:33:50 WARN TaskSetManager: Stage 0 contains a task of very large size (14359 KiB). The maximum recommended task size is 1000 KiB.\n",
      "                                                                                \r"
     ]
    },
    {
     "name": "stdout",
     "output_type": "stream",
     "text": [
      "Result count with org.apache.spark.serializer.JavaSerializer: 10000\n",
      "Execution Time (secs): 10.769093990325928\n",
      "Estimated data size: 240.33 MB\n"
     ]
    }
   ],
   "source": [
    "# Run the job with JavaSerializer\n",
    "run_spark_job(\"org.apache.spark.serializer.JavaSerializer\", 10500000)"
   ]
  },
  {
   "cell_type": "markdown",
   "metadata": {},
   "source": [
    "## KryoSerializer\n",
    "\n",
    "Source: https://spark.apache.org/docs/latest/tuning.html"
   ]
  },
  {
   "cell_type": "code",
   "execution_count": 3,
   "metadata": {},
   "outputs": [
    {
     "name": "stderr",
     "output_type": "stream",
     "text": [
      "24/03/16 13:34:06 WARN TaskSetManager: Stage 0 contains a task of very large size (14422 KiB). The maximum recommended task size is 1000 KiB.\n",
      "                                                                                \r"
     ]
    },
    {
     "name": "stdout",
     "output_type": "stream",
     "text": [
      "Result count with org.apache.spark.serializer.KryoSerializer: 10000\n",
      "Execution Time (secs): 6.932398796081543\n",
      "Estimated data size: 240.33 MB\n"
     ]
    }
   ],
   "source": [
    "# Run the job with KryoSerializer\n",
    "run_spark_job(\"org.apache.spark.serializer.KryoSerializer\", 10500000)"
   ]
  }
 ],
 "metadata": {
  "kernelspec": {
   "display_name": "Python (Term Paper)",
   "language": "python",
   "name": "pytorch"
  },
  "language_info": {
   "codemirror_mode": {
    "name": "ipython",
    "version": 3
   },
   "file_extension": ".py",
   "mimetype": "text/x-python",
   "name": "python",
   "nbconvert_exporter": "python",
   "pygments_lexer": "ipython3",
   "version": "3.12.2"
  }
 },
 "nbformat": 4,
 "nbformat_minor": 4
}
